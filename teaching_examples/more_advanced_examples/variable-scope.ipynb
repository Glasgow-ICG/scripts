{
 "cells": [
  {
   "cell_type": "markdown",
   "metadata": {},
   "source": [
    "# Scope of variables\n",
    "\n",
    "This notebook illustrates the **scope** of variables, i.e. where in your code you can or can't refer to a pre-existing variable from. This is a relatively advanced concept, and this notebook will sow extra confusion by illustrating a couple of areas where arguably Python behaves inconsistently or illogically! "
   ]
  },
  {
   "cell_type": "code",
   "execution_count": null,
   "metadata": {},
   "outputs": [],
   "source": [
    "# Outside a function, variables can be referred to anywhere in your code.\n",
    "# These are sometimes referred to as being at the \"top-level scope\"\n",
    "# We can define a variable in this cell...\n",
    "a = 1"
   ]
  },
  {
   "cell_type": "code",
   "execution_count": null,
   "metadata": {},
   "outputs": [],
   "source": [
    "# ... and refer to it from the next cell\n",
    "print(a)"
   ]
  },
  {
   "cell_type": "code",
   "execution_count": null,
   "metadata": {},
   "outputs": [],
   "source": [
    "# If we define a variable inside a function, we cannot then refer to it from our main code outside the function\n",
    "def function1():\n",
    "    b = 10\n",
    "    c = 11\n",
    "    print(' Inside the function, we can use variables b and c. They have values of {0} and {1}'.format(b, c))\n",
    "    \n",
    "function1()\n",
    "print('After the function returns, we cannot refer to that variable b again')\n",
    "print('The next line of code will therefore fail')\n",
    "print(b)"
   ]
  },
  {
   "cell_type": "code",
   "execution_count": null,
   "metadata": {},
   "outputs": [],
   "source": [
    "print('We will define the variable c outside the function')\n",
    "c = 2\n",
    "print('It has value {0}'.format(c))\n",
    "\n",
    "print('Now we will call our function, which will define a *different* internal variable with the same name')\n",
    "function1()\n",
    "print('After the function returns, back in our main code our variable c still has value {0}'.format(c))"
   ]
  },
  {
   "cell_type": "code",
   "execution_count": null,
   "metadata": {},
   "outputs": [],
   "source": [
    "# If we pass an argument to a function, we can modify its value inside the function\n",
    "# and this will not affect the value outside the function\n",
    "print('We start with c={0}, and pass it to our function'.format(c))\n",
    "\n",
    "def function2(c):\n",
    "    print(' Inside the function, we receive an argument with value {0}'.format(c))\n",
    "    c = 0\n",
    "    print(' We set it to a new value - now, inside the function, c={0}'.format(c))\n",
    "\n",
    "\n",
    "function2(c)\n",
    "print('Back at the top-level scope, c={0} still!'.format(c))"
   ]
  },
  {
   "cell_type": "markdown",
   "metadata": {},
   "source": [
    "### Jupyter notebooks are slightly different from regular Python\n",
    "The following code illustrates that we can access a variable with top-level scope from inside a function. *However*, if you copied and pasted this same code into a regular Python script (a text file ending in .py), this code would **not** work."
   ]
  },
  {
   "cell_type": "code",
   "execution_count": null,
   "metadata": {},
   "outputs": [],
   "source": [
    "def function3():\n",
    "    print(' Inside the function, we can actually access d. It has value {0}'.format(d))\n",
    "\n",
    "print('We will define the variable d outside the function')\n",
    "d = 3\n",
    "print('It has value {0}'.format(d))\n",
    "\n",
    "function2()"
   ]
  },
  {
   "cell_type": "markdown",
   "metadata": {},
   "source": [
    "### Arrays behave counter-intuitively\n",
    "Remember how we modified `c` inside `function2`, and it was not affected at the top-level scope? Well, unfortunately things behave differently if we are passing a numpy array as a function argument!"
   ]
  },
  {
   "cell_type": "code",
   "execution_count": null,
   "metadata": {},
   "outputs": [],
   "source": [
    "# If we pass an argument to a function, we can modify its value inside the function\n",
    "# and this will not affect the value outside the function\n",
    "import numpy as np\n",
    "e = np.array([1, 2, 3])\n",
    "print('We start with e={0}, and pass it to our function'.format(e))\n",
    "\n",
    "def function4(e):\n",
    "    print(' Inside the function, we receive an argument with value {0}'.format(e))\n",
    "    e[2] = 0\n",
    "    print(' We set one element to zero - now, inside the function, e={0}'.format(e))\n",
    "\n",
    "\n",
    "function4(e)\n",
    "print('Back at the top-level scope, e={0} has been modified!'.format(e))"
   ]
  },
  {
   "cell_type": "markdown",
   "metadata": {},
   "source": [
    "That's nasty, and risks causing subtle unexpected behaviour if we're not careful. If we think there's the slightest risk an argument could be passed as an array, and we intend to modify it inside our function, it is good practice to make a copy of it. However, note that this may have performance implications, so you shouldn't do this unless you know you plan to modify the array (and you might want to think about whether you really need to modify it at all).\n",
    "\n",
    "**In general it is bad practice** to write a function that has unexpected \"side-effects\" such as modifying the content of one of its input arguments in a way that the caller will \"see\" after the function returns."
   ]
  },
  {
   "cell_type": "code",
   "execution_count": null,
   "metadata": {},
   "outputs": [],
   "source": [
    "print('We start with e={0}, and pass it to our function'.format(e))\n",
    "\n",
    "def function4_safe(e):\n",
    "    # Make a copy of our argument, so we can safely modify it\n",
    "    e = e.copy()\n",
    "    print(' Inside the function, we receive an argument with value {0}'.format(e))\n",
    "    e[2] = 1\n",
    "    print(' We set one element to zero - now, inside the function, e={0}'.format(e))\n",
    "\n",
    "\n",
    "function4_safe(e)\n",
    "print('Back at the top-level scope, e={0} is unchanged!'.format(e))"
   ]
  }
 ],
 "metadata": {
  "kernelspec": {
   "display_name": "Python 3",
   "language": "python",
   "name": "python3"
  },
  "language_info": {
   "codemirror_mode": {
    "name": "ipython",
    "version": 3
   },
   "file_extension": ".py",
   "mimetype": "text/x-python",
   "name": "python",
   "nbconvert_exporter": "python",
   "pygments_lexer": "ipython3",
   "version": "3.7.4"
  }
 },
 "nbformat": 4,
 "nbformat_minor": 2
}
