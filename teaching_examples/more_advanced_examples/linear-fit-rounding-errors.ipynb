{
 "cells": [
  {
   "cell_type": "markdown",
   "id": "6e576b84",
   "metadata": {},
   "source": [
    "# Truncation errors in linear fit calculations\n",
    "\n",
    "I am fitting ten datapoints whose timestamps span a 100ms range, but with a baseline offset of about a week.\n",
    "If I fit to the timestamps without first subtracting the baseline,\n",
    "I get an incorrect answer for the gradient (over 3% error).\n",
    "\n",
    "If I fit to the datapoints with the baseline subtracted, I get correct results.\n",
    "\n",
    "This code demonstrates the issue and examines where the truncation error is causing problems"
   ]
  },
  {
   "cell_type": "markdown",
   "id": "b06de094",
   "metadata": {},
   "source": [
    "Classical formula for the gradient:\n",
    "$$\\frac{\\overline{(xy)} - (\\overline{x})(\\overline{y})}{\\overline{x^2} - \\overline{x}^2}$$\n",
    "Alternative formula:\n",
    "$$\\frac{\\sum((x - \\overline{x}) (y - \\overline{y}))}{\\sum (x - \\overline{x})^2}$$"
   ]
  },
  {
   "cell_type": "code",
   "execution_count": 1,
   "id": "7506f419",
   "metadata": {},
   "outputs": [],
   "source": [
    "import numpy as np\n",
    "import matplotlib.pyplot as plt\n",
    "from scipy.optimize import curve_fit"
   ]
  },
  {
   "cell_type": "code",
   "execution_count": 2,
   "id": "d8e2792d",
   "metadata": {},
   "outputs": [],
   "source": [
    "def linear(x, m, c):\n",
    "    return m*x + c"
   ]
  },
  {
   "cell_type": "code",
   "execution_count": 3,
   "id": "ab4ee765",
   "metadata": {},
   "outputs": [],
   "source": [
    "baseline = 770656.892832\n",
    "_t = np.array([0.440225, 0.45023,  0.460235, 0.470241, 0.480245, 0.490251, 0.500256, 0.510261, 0.520266, 0.530271])\n",
    "t = baseline+_t\n",
    "ph = np.array([568.1473, 568.4774, 568.7626, 569.0398, 569.234,  569.5013, 569.8461, 570.1536,  570.3557, 570.6171])"
   ]
  },
  {
   "cell_type": "code",
   "execution_count": 4,
   "id": "2bf28d59",
   "metadata": {},
   "outputs": [
    {
     "name": "stdout",
     "output_type": "stream",
     "text": [
      "== Fit with baseline present ==\n",
      "2.882568359375\n",
      "== Fit with baseline manually removed ==\n",
      "27.269338669345505\n",
      "== Alternative formula works with baseline present ==\n",
      "27.269338669422687\n"
     ]
    }
   ],
   "source": [
    "# This is the formula I used (which gives incorrect results when a large baseline is present)\n",
    "# Note that this is the standard formula, which I teach and derive in the Numerical Methods course.\n",
    "# It's the denominator that experiences the problem.\n",
    "# We subtract two numbers that only differ in their 15th decimal digit,\n",
    "# when double-precision numbers only have ~16 valid decimal digits.\n",
    "def LinearFit(x, y):\n",
    "    xMean = np.average(x)\n",
    "    yMean = np.average(y)\n",
    "    x2Mean = np.average(x**2)\n",
    "    xyMean = np.average(x*y)\n",
    "    beta = (xyMean - xMean * yMean) / (x2Mean - xMean**2)\n",
    "    # Note that Matlab reports a true answer for the denominator as:\n",
    "    # 0.00082584721749\n",
    "    #print(x2Mean)\n",
    "    #print(xMean**2)\n",
    "    #print(x2Mean - xMean**2)\n",
    "    alpha = yMean - beta * xMean\n",
    "    return beta, alpha\n",
    "\n",
    "# This equivalent formula (from Wikipedia) is not affected by the presence of the baseline\n",
    "def LinearFit2(x, y):\n",
    "    xMean = np.average(x)\n",
    "    yMean = np.average(y)\n",
    "    beta = np.sum((x - xMean) * (y - yMean)) / np.sum((x - xMean)**2)\n",
    "    alpha = yMean - beta * xMean\n",
    "    return beta, alpha\n",
    "\n",
    "print(\"== Fit with baseline present ==\")\n",
    "lfBaseline = LinearFit(t, ph)\n",
    "print(lfBaseline[0])\n",
    "print(\"== Fit with baseline manually removed ==\")\n",
    "lfNoBaseline = LinearFit(t-baseline, ph)\n",
    "print(lfNoBaseline[0])\n",
    "print(\"== Alternative formula works with baseline present ==\")\n",
    "lf2Baseline = LinearFit2(t, ph)\n",
    "print(lf2Baseline[0])"
   ]
  },
  {
   "cell_type": "code",
   "execution_count": 5,
   "id": "2bc5a464",
   "metadata": {},
   "outputs": [
    {
     "data": {
      "image/png": "[encoded data removed]",
      "text/plain": [
       "<Figure size 432x288 with 1 Axes>"
      ]
     },
     "metadata": {
      "needs_background": "light"
     },
     "output_type": "display_data"
    }
   ],
   "source": [
    "# Demonstrate the difference in linear fit\n",
    "plt.plot(t, ph, 'x', label='datapoints')\n",
    "plt.plot(t, linear(t, *lfBaseline), label='classical formula')\n",
    "plt.plot(t, linear(t-baseline, *lfNoBaseline), label='alternative formula')\n",
    "plt.ylabel(\"phase\")\n",
    "plt.xlabel(\"t\")\n",
    "plt.legend()\n",
    "plt.savefig('linear.png')\n",
    "plt.show()"
   ]
  },
  {
   "cell_type": "markdown",
   "id": "f92947aa",
   "metadata": {},
   "source": [
    "# Algebraic rearrangements of the formula to understand where the truncation errors are coming from"
   ]
  },
  {
   "cell_type": "code",
   "execution_count": 6,
   "id": "fd00abb3",
   "metadata": {},
   "outputs": [
    {
     "name": "stdout",
     "output_type": "stream",
     "text": [
      "59391212126143.37\n",
      "59391212126143.37\n",
      "0.0008258472174900444\n",
      "27.26904544894064\n"
     ]
    }
   ],
   "source": [
    "# Confirming that my expanding of the x2Mean term matches the original (it does)\n",
    "print(np.average(_t**2) + baseline**2 + 2*baseline*np.average(_t))\n",
    "# Confirming that my expanding of the xMean**2 term matches the original (it does)\n",
    "print((baseline)**2 + 2*baseline*np.average(_t) + np.average(_t)**2)\n",
    "\n",
    "# Therefore all the baseline terms cancel (as they logically should) and the true difference between these two is:\n",
    "denom = np.average(_t**2) - np.average(_t)**2\n",
    "print(denom)\n",
    "\n",
    "# But what this tells us is that the arithmetic has to be able to cope with subtracting two values\n",
    "# of magnitude baseline**2 that only differ by an amount of the order of the *differences* between time values.\n",
    "# This therefore requires a very large number of digits of precision\n",
    "print((np.average(t*ph) - np.average(t) * np.average(ph)) / denom)"
   ]
  },
  {
   "cell_type": "markdown",
   "id": "8bdc1695",
   "metadata": {},
   "source": [
    "# Note that curve_fit does also run into similar problems, albeit to a slightly lesser extent"
   ]
  },
  {
   "cell_type": "code",
   "execution_count": 7,
   "id": "80ed72c7",
   "metadata": {},
   "outputs": [
    {
     "name": "stdout",
     "output_type": "stream",
     "text": [
      "curve_fit gradient: 27.25773600465059\n",
      "curve_fit gradient (baseline subtracted): 27.269339975962076\n"
     ]
    }
   ],
   "source": [
    "popt, pcov = curve_fit(linear, t, ph)\n",
    "popt2, pcov2 = curve_fit(linear, t-baseline, ph)\n",
    "\n",
    "# These two gradients differ in the second decimal place (0.1% error)\n",
    "print(f\"curve_fit gradient: {popt[0]}\")\n",
    "print(f\"curve_fit gradient (baseline subtracted): {popt2[0]}\")"
   ]
  },
  {
   "cell_type": "code",
   "execution_count": null,
   "id": "19f96872",
   "metadata": {},
   "outputs": [],
   "source": []
  }
 ],
 "metadata": {
  "kernelspec": {
   "display_name": "Python 3 (ipykernel)",
   "language": "python",
   "name": "python3"
  },
  "language_info": {
   "codemirror_mode": {
    "name": "ipython",
    "version": 3
   },
   "file_extension": ".py",
   "mimetype": "text/x-python",
   "name": "python",
   "nbconvert_exporter": "python",
   "pygments_lexer": "ipython3",
   "version": "3.9.12"
  }
 },
 "nbformat": 4,
 "nbformat_minor": 5
}
