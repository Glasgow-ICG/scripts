{
 "cells": [
  {
   "cell_type": "markdown",
   "metadata": {},
   "source": [
    "# Pretty printing of matrices \n",
    "\n",
    "Python/numpy will print a matrix to the console if you ask it to, but if you want to print a simple matrix equation such as:\n",
    "\n",
    "`⎡1.0   2.0    5.0 ⎤     ⎡ 6.0 ⎤\n",
    "⎢                 ⎥     ⎢     ⎥\n",
    "⎢0.0  -14.0  -21.0⎥⋅x = ⎢-25.0⎥\n",
    "⎢                 ⎥     ⎢     ⎥\n",
    "⎣0.0  -5.0   -7.0 ⎦     ⎣-5.0 ⎦`\n",
    "\n",
    "then there is no easy way to do that. This notebook provides a few functions that you may find helpful, for doing just that. They make use of the `sympy` module. That module is normally used for performing algebraic calculations using python (if you want to use python rather than Mathematica, which is more naturally suited to the task!). However in this case we are using it simply because it has some convenient built-in functions for printing out mathematical equations in a neat way. In fact, we have to work quite hard (through the use of the `UnevaluatedExpr` class) to stop `sympy` from going ahead and \"solving\" our equations for us!\n",
    "\n",
    "- Jonathan Taylor, Oct 2019.\n",
    "\n"
   ]
  },
  {
   "cell_type": "code",
   "execution_count": 1,
   "metadata": {
    "collapsed": true
   },
   "outputs": [],
   "source": [
    "# sympy is useful because it helps us to print matrix equations in an easier-to-read format\n",
    "from sympy import Matrix, pprint, Eq, UnevaluatedExpr, symbols\n",
    "import numpy as np "
   ]
  },
  {
   "cell_type": "code",
   "execution_count": 13,
   "metadata": {
    "collapsed": true
   },
   "outputs": [],
   "source": [
    "# Utility functions that will print out the numerical contents of matrices and matrix equations\n",
    "def PrintMxEqualsB(M, x, b):\n",
    "    # Prints something like \"Mx = b\",\n",
    "    # where x can be either a vector of numbers or a string (e.g. 'x') if we want it to be printed out as an unknown.\n",
    "    if isinstance(x, str):\n",
    "        x = symbols(x)\n",
    "    else:\n",
    "        x = Matrix(np.array(x))\n",
    "    pprint(Eq(UnevaluatedExpr(Matrix(np.array(M))) * UnevaluatedExpr(x), UnevaluatedExpr(Matrix(np.array(b)))), num_columns=200)\n",
    "    \n",
    "def PrintAEqualsB(a, b):\n",
    "    # Prints something like \"a = b\", i.e. displays a comparison between two vectors that are expected to be equal.\n",
    "    # Frustratingly, no amount of using UnevaluatedExpr seems to be able to prevent it just printing 'True'\n",
    "    # if a and b are identically equal. That is not what I am wanting it to do,\n",
    "    # but I suppose it is behaviour that we can work with.\n",
    "    pprint(Eq(UnevaluatedExpr(Matrix(np.array(a))), UnevaluatedExpr(Matrix(np.array(b)))))\n",
    "    \n",
    "def PrintMatrix(a):\n",
    "    # Just prints out a prettified version of the matrix a\n",
    "    pprint(UnevaluatedExpr(Matrix(np.array(a))))\n",
    "    \n",
    "def PrintVector(a):\n",
    "    # Just prints out a prettified version of the vector a\n",
    "    # This is defined separately to PrintMatrix, for convenience and readability, \n",
    "    # but we actually use exactly the same code as for a matrix.\n",
    "    PrintMatrix(a)"
   ]
  },
  {
   "cell_type": "code",
   "execution_count": 12,
   "metadata": {
    "scrolled": false
   },
   "outputs": [
    {
     "name": "stdout",
     "output_type": "stream",
     "text": [
      "Matrix A:\n",
      "⎡1  2  7  5⎤\n",
      "⎢          ⎥\n",
      "⎢4  1  2  3⎥\n",
      "⎢          ⎥\n",
      "⎢2  4  1  2⎥\n",
      "⎢          ⎥\n",
      "⎣4  5  9  2⎦\n",
      "Vector b:\n",
      "⎡1⎤\n",
      "⎢ ⎥\n",
      "⎢1⎥\n",
      "⎢ ⎥\n",
      "⎢1⎥\n",
      "⎢ ⎥\n",
      "⎣1⎦\n",
      "A statement of the problem:\n",
      "⎡1  2  7  5⎤     ⎡1⎤\n",
      "⎢          ⎥     ⎢ ⎥\n",
      "⎢4  1  2  3⎥     ⎢1⎥\n",
      "⎢          ⎥⋅x = ⎢ ⎥\n",
      "⎢2  4  1  2⎥     ⎢1⎥\n",
      "⎢          ⎥     ⎢ ⎥\n",
      "⎣4  5  9  2⎦     ⎣1⎦\n",
      "The equation with the solution substituted in:\n",
      "⎡1  2  7  5⎤ ⎡0.0990654205607479 ⎤   ⎡1⎤\n",
      "⎢          ⎥ ⎢                   ⎥   ⎢ ⎥\n",
      "⎢4  1  2  3⎥ ⎢ 0.11588785046729  ⎥   ⎢1⎥\n",
      "⎢          ⎥⋅⎢                   ⎥ = ⎢ ⎥\n",
      "⎢2  4  1  2⎥ ⎢-0.0392523364485982⎥   ⎢1⎥\n",
      "⎢          ⎥ ⎢                   ⎥   ⎢ ⎥\n",
      "⎣4  5  9  2⎦ ⎣ 0.188785046728972 ⎦   ⎣1⎦\n",
      "A statement of an equation (which is not in reality an equality):\n",
      "⎡0.0990654205607479 ⎤   ⎡1⎤\n",
      "⎢                   ⎥   ⎢ ⎥\n",
      "⎢ 0.11588785046729  ⎥   ⎢1⎥\n",
      "⎢                   ⎥ = ⎢ ⎥\n",
      "⎢-0.0392523364485982⎥   ⎢1⎥\n",
      "⎢                   ⎥   ⎢ ⎥\n",
      "⎣ 0.188785046728972 ⎦   ⎣1⎦\n",
      "Attempting to write out an equation which really is true:\n",
      "True\n"
     ]
    }
   ],
   "source": [
    "# Define a matrix and a vector\n",
    "A = np.array([[1,2,7,5], [4,1,2,3], [2,4,1,2], [4,5,9,2]])  \n",
    "b = np.array([1,1,1,1])\n",
    "x = np.linalg.lstsq(A, b , rcond=None)[0]\n",
    "\n",
    "# Example usage:\n",
    "print(\"Matrix A:\")\n",
    "PrintMatrix(A)\n",
    "print(\"Vector b:\")\n",
    "PrintVector(b)\n",
    "print(\"A statement of the problem:\")\n",
    "PrintMxEqualsB(A, 'x', b)\n",
    "print(\"The equation with the solution substituted in:\")\n",
    "PrintMxEqualsB(A, x, b)\n",
    "print(\"A statement of an equation (which is not in reality an equality):\")\n",
    "PrintAEqualsB(x, b)\n",
    "\n",
    "# Unfortunately I cannot get sympy to print out a statement like the one above,\n",
    "# when the equation is satisfied. It insists on evaluating the equality to 'True'.\n",
    "# For my own purposes, I have found that behaviour acceptable, but it is frustrating\n",
    "# that I cannot get it to print what I want it to print.\n",
    "# This seems to be related to known current limitations of sympy\n",
    "# (see https://github.com/sympy/sympy/issues/14560 etc)\n",
    "print(\"Attempting to write out an equation which really is true:\")\n",
    "PrintAEqualsB(b, b)"
   ]
  }
 ],
 "metadata": {
  "kernelspec": {
   "display_name": "Python 3",
   "language": "python",
   "name": "python3"
  },
  "language_info": {
   "codemirror_mode": {
    "name": "ipython",
    "version": 3
   },
   "file_extension": ".py",
   "mimetype": "text/x-python",
   "name": "python",
   "nbconvert_exporter": "python",
   "pygments_lexer": "ipython3",
   "version": "3.5.5"
  }
 },
 "nbformat": 4,
 "nbformat_minor": 2
}
